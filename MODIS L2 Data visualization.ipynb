{
 "cells": [
  {
   "cell_type": "code",
   "execution_count": 1,
   "id": "130f5b25",
   "metadata": {},
   "outputs": [],
   "source": [
    "import numpy as np\n",
    "import pandas as pd\n",
    "import matplotlib.pyplot as plt\n",
    "import os\n",
    "from pyhdf.SD import SD, SDC"
   ]
  },
  {
   "cell_type": "markdown",
   "id": "eef276a9",
   "metadata": {},
   "source": [
    "# Opening file"
   ]
  },
  {
   "cell_type": "code",
   "execution_count": 2,
   "id": "dcb6427f",
   "metadata": {},
   "outputs": [],
   "source": [
    "file = 'D:\\MOD04_3K.A2018001.0500.061.2018003202451.hdf'\n",
    "hdf = SD(file, SDC.READ)"
   ]
  },
  {
   "cell_type": "code",
   "execution_count": 3,
   "id": "a7efc9ea",
   "metadata": {},
   "outputs": [
    {
     "data": {
      "text/plain": [
       "['Aerosol_Cloud_Fraction_Land',\n",
       " 'Aerosol_Cloud_Fraction_Ocean',\n",
       " 'Aerosol_Type_Land',\n",
       " 'Angstrom_Exponent_1_Ocean',\n",
       " 'Angstrom_Exponent_2_Ocean',\n",
       " 'Asymmetry_Factor_Average_Ocean',\n",
       " 'Asymmetry_Factor_Best_Ocean',\n",
       " 'Backscattering_Ratio_Average_Ocean',\n",
       " 'Backscattering_Ratio_Best_Ocean',\n",
       " 'BowTie_Flag',\n",
       " 'Corrected_Optical_Depth_Land',\n",
       " 'Corrected_Optical_Depth_Land_wav2p1',\n",
       " 'Effective_Optical_Depth_Average_Ocean',\n",
       " 'Effective_Optical_Depth_Best_Ocean',\n",
       " 'Effective_Radius_Ocean',\n",
       " 'Fitting_Error_Land',\n",
       " 'Glint_Angle',\n",
       " 'Image_Optical_Depth_Land_And_Ocean',\n",
       " 'Land_Ocean_Quality_Flag',\n",
       " 'Land_sea_Flag',\n",
       " 'Latitude',\n",
       " 'Least_Squares_Error_Ocean',\n",
       " 'Longitude',\n",
       " 'Mass_Concentration_Land',\n",
       " 'Mass_Concentration_Ocean',\n",
       " 'Mean_Reflectance_Land',\n",
       " 'Mean_Reflectance_Ocean',\n",
       " 'Number_Pixels_Used_Land',\n",
       " 'Number_Pixels_Used_Ocean',\n",
       " 'Optical_Depth_Land_And_Ocean',\n",
       " 'Optical_Depth_Large_Average_Ocean',\n",
       " 'Optical_Depth_Large_Best_Ocean',\n",
       " 'Optical_Depth_Ratio_Small_Land',\n",
       " 'Optical_Depth_Ratio_Small_Ocean_0.55micron',\n",
       " 'Optical_Depth_Small_Average_Ocean',\n",
       " 'Optical_Depth_Small_Best_Ocean',\n",
       " 'Optical_Depth_by_models_ocean',\n",
       " 'PSML003_Ocean',\n",
       " 'Quality_Assurance_Land',\n",
       " 'Quality_Assurance_Ocean',\n",
       " 'STD_Reflectance_Land',\n",
       " 'STD_Reflectance_Ocean',\n",
       " 'Scan_Start_Time',\n",
       " 'Scattering_Angle',\n",
       " 'Sensor_Azimuth',\n",
       " 'Sensor_Zenith',\n",
       " 'Solar_Azimuth',\n",
       " 'Solar_Zenith',\n",
       " 'Solution_Index_Ocean_Large',\n",
       " 'Solution_Index_Ocean_Small',\n",
       " 'Surface_Reflectance_Land',\n",
       " 'Topographic_Altitude_Land',\n",
       " 'Wind_Speed_Ncep_Ocean']"
      ]
     },
     "execution_count": 3,
     "metadata": {},
     "output_type": "execute_result"
    }
   ],
   "source": [
    "# List available SDS datasets.\n",
    "sorted(hdf.datasets())"
   ]
  },
  {
   "cell_type": "markdown",
   "id": "081ea68e",
   "metadata": {},
   "source": [
    "# Extract Datasets "
   ]
  },
  {
   "cell_type": "code",
   "execution_count": 4,
   "id": "82253d78",
   "metadata": {},
   "outputs": [
    {
     "name": "stdout",
     "output_type": "stream",
     "text": [
      "Shape of the AEROSOL_2: (676, 451)\n",
      "Data type of aerosol_2: <class 'numpy.ndarray'>\n",
      "Minimum AOD Value: -9999\n",
      "Maximum AOD Value: 3728\n"
     ]
    }
   ],
   "source": [
    "aerosol_1 = hdf.select('Optical_Depth_Land_And_Ocean')\n",
    "aerosol_2 = aerosol_1[:]\n",
    "print('Shape of the AEROSOL_2:',aerosol_2.shape)\n",
    "print('Data type of aerosol_2:',type(aerosol_2))\n",
    "print('Minimum AOD Value:',aerosol_2.min())\n",
    "print('Maximum AOD Value:',aerosol_2.max())"
   ]
  },
  {
   "cell_type": "code",
   "execution_count": 5,
   "id": "0dc3ae4f",
   "metadata": {},
   "outputs": [],
   "source": [
    "aerosol_2 = aerosol_2.astype('float')"
   ]
  },
  {
   "cell_type": "code",
   "execution_count": 6,
   "id": "8a80a4aa",
   "metadata": {},
   "outputs": [],
   "source": [
    "aerosol_2[aerosol_2 == -9999.] = np.nan"
   ]
  },
  {
   "cell_type": "code",
   "execution_count": 10,
   "id": "ccea46ad",
   "metadata": {},
   "outputs": [
    {
     "data": {
      "text/plain": [
       "nan"
      ]
     },
     "execution_count": 10,
     "metadata": {},
     "output_type": "execute_result"
    }
   ],
   "source": [
    "aerosol_2.max()"
   ]
  },
  {
   "cell_type": "code",
   "execution_count": 11,
   "id": "988fbe0c",
   "metadata": {},
   "outputs": [
    {
     "name": "stdout",
     "output_type": "stream",
     "text": [
      "Shape of the Latitude: (676, 451)\n",
      "Data type of Latitude: <class 'numpy.ndarray'>\n",
      "Minimum Latitude Value: 6.7712936\n",
      "Maximum Latitude Value: 27.728142\n"
     ]
    }
   ],
   "source": [
    "lat = hdf.select('Latitude')\n",
    "latitude = lat[:]\n",
    "print('Shape of the Latitude:',latitude.shape)\n",
    "print('Data type of Latitude:',type(latitude))\n",
    "print('Minimum Latitude Value:',latitude.min())\n",
    "print('Maximum Latitude Value:',latitude.max())"
   ]
  },
  {
   "cell_type": "code",
   "execution_count": 12,
   "id": "4ff0661a",
   "metadata": {},
   "outputs": [
    {
     "name": "stdout",
     "output_type": "stream",
     "text": [
      "Shape of the Longitude: (676, 451)\n",
      "Data type of Longitude: <class 'numpy.ndarray'>\n",
      "Minimum Longitude Value: 72.13627\n",
      "Maximum Longitude Value: 97.88896\n"
     ]
    }
   ],
   "source": [
    "lon = hdf.select('Longitude')\n",
    "longitude = lon[:]\n",
    "print('Shape of the Longitude:',longitude.shape)\n",
    "print('Data type of Longitude:',type(longitude))\n",
    "print('Minimum Longitude Value:',longitude.min())\n",
    "print('Maximum Longitude Value:',longitude.max())"
   ]
  },
  {
   "cell_type": "code",
   "execution_count": 13,
   "id": "1ff45419",
   "metadata": {},
   "outputs": [
    {
     "name": "stdout",
     "output_type": "stream",
     "text": [
      "Grid Longitude Shape: (340,)\n",
      "Grid Latitude Shape: (400,)\n",
      "Grid Longitude Minimum: 75.0\n",
      "Grid Longitude Maximum: 91.94999999999904\n",
      "Grid Latitude Minimum: 7.0\n",
      "Grid Latitude Maximum: 26.94999999999993\n"
     ]
    }
   ],
   "source": [
    "grid_lon = np.arange(75,92,0.05,dtype='float')\n",
    "grid_lat = np.arange(7,27,0.05,dtype='float')\n",
    "print('Grid Longitude Shape:',grid_lon.shape)\n",
    "print('Grid Latitude Shape:',grid_lat.shape)\n",
    "print('Grid Longitude Minimum:',grid_lon.min())\n",
    "print('Grid Longitude Maximum:',grid_lon.max())\n",
    "print('Grid Latitude Minimum:',grid_lat.min())\n",
    "print('Grid Latitude Maximum:',grid_lat.max())"
   ]
  },
  {
   "cell_type": "code",
   "execution_count": 14,
   "id": "db307a7e",
   "metadata": {},
   "outputs": [],
   "source": [
    "# x_lon_ind,y_lon_ind = np.array(np.where(np.logical_and(longitude>=grid_lon[0],longitude<=grid_lon[1])))"
   ]
  },
  {
   "cell_type": "code",
   "execution_count": 27,
   "id": "e7552ffa",
   "metadata": {},
   "outputs": [],
   "source": [
    "lon_inds = np.array(np.argwhere(np.logical_and(longitude>=grid_lon[2],longitude<=grid_lon[3])))"
   ]
  },
  {
   "cell_type": "code",
   "execution_count": 28,
   "id": "331abff6",
   "metadata": {},
   "outputs": [],
   "source": [
    "lat_inds = np.array(np.argwhere(np.logical_and(latitude>=grid_lat[2],latitude<=grid_lat[3])))"
   ]
  },
  {
   "cell_type": "code",
   "execution_count": 29,
   "id": "ab661145",
   "metadata": {},
   "outputs": [
    {
     "data": {
      "text/plain": [
       "(323, 2)"
      ]
     },
     "execution_count": 29,
     "metadata": {},
     "output_type": "execute_result"
    }
   ],
   "source": [
    "lon_inds.shape"
   ]
  },
  {
   "cell_type": "code",
   "execution_count": 30,
   "id": "e0049a59",
   "metadata": {},
   "outputs": [
    {
     "data": {
      "text/plain": [
       "(38, 2)"
      ]
     },
     "execution_count": 30,
     "metadata": {},
     "output_type": "execute_result"
    }
   ],
   "source": [
    "lat_inds.shape"
   ]
  },
  {
   "cell_type": "code",
   "execution_count": 31,
   "id": "daf7a157",
   "metadata": {},
   "outputs": [],
   "source": [
    "indices = []\n",
    "for i in lon_inds:\n",
    "    if i in lat_inds:\n",
    "        indices.append(i)"
   ]
  },
  {
   "cell_type": "code",
   "execution_count": 50,
   "id": "a9511bea",
   "metadata": {},
   "outputs": [],
   "source": [
    "ines = np.array(indices)"
   ]
  },
  {
   "cell_type": "code",
   "execution_count": 51,
   "id": "a9d91e0c",
   "metadata": {},
   "outputs": [
    {
     "data": {
      "text/plain": [
       "array([[662,  30],\n",
       "       [663,  30],\n",
       "       [664,  30],\n",
       "       [665,  30],\n",
       "       [666,  30],\n",
       "       [667,  30],\n",
       "       [668,  30],\n",
       "       [669,  30],\n",
       "       [670,  30],\n",
       "       [671,  30]], dtype=int64)"
      ]
     },
     "execution_count": 51,
     "metadata": {},
     "output_type": "execute_result"
    }
   ],
   "source": [
    "ines"
   ]
  },
  {
   "cell_type": "code",
   "execution_count": null,
   "id": "a72ec5e8",
   "metadata": {},
   "outputs": [],
   "source": []
  }
 ],
 "metadata": {
  "kernelspec": {
   "display_name": "Python 3 (ipykernel)",
   "language": "python",
   "name": "python3"
  },
  "language_info": {
   "codemirror_mode": {
    "name": "ipython",
    "version": 3
   },
   "file_extension": ".py",
   "mimetype": "text/x-python",
   "name": "python",
   "nbconvert_exporter": "python",
   "pygments_lexer": "ipython3",
   "version": "3.9.7"
  },
  "varInspector": {
   "cols": {
    "lenName": 16,
    "lenType": 16,
    "lenVar": 40
   },
   "kernels_config": {
    "python": {
     "delete_cmd_postfix": "",
     "delete_cmd_prefix": "del ",
     "library": "var_list.py",
     "varRefreshCmd": "print(var_dic_list())"
    },
    "r": {
     "delete_cmd_postfix": ") ",
     "delete_cmd_prefix": "rm(",
     "library": "var_list.r",
     "varRefreshCmd": "cat(var_dic_list()) "
    }
   },
   "position": {
    "height": "320.844px",
    "left": "740px",
    "right": "20px",
    "top": "26px",
    "width": "495px"
   },
   "types_to_exclude": [
    "module",
    "function",
    "builtin_function_or_method",
    "instance",
    "_Feature"
   ],
   "window_display": false
  }
 },
 "nbformat": 4,
 "nbformat_minor": 5
}
